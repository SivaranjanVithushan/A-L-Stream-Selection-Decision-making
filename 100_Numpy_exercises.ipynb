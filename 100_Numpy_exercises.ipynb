{
  "cells": [
    {
      "cell_type": "markdown",
      "id": "5a28b949",
      "metadata": {
        "id": "5a28b949"
      },
      "source": [
        "# 100 numpy exercises\n",
        "\n",
        "This is a collection of exercises that have been collected in the numpy mailing list, on stack overflow\n",
        "and in the numpy documentation. The goal of this collection is to offer a quick reference for both old\n",
        "and new users but also to provide a set of exercises for those who teach.\n",
        "\n",
        "\n",
        "If you find an error or think you've a better way to solve some of them, feel\n",
        "free to open an issue at <https://github.com/rougier/numpy-100>."
      ]
    },
    {
      "cell_type": "markdown",
      "id": "3f7a87ec",
      "metadata": {
        "id": "3f7a87ec"
      },
      "source": [
        "File automatically generated. See the documentation to update questions/answers/hints programmatically."
      ]
    },
    {
      "cell_type": "markdown",
      "id": "854ecf1b",
      "metadata": {
        "id": "854ecf1b"
      },
      "source": [
        "Run the `initialise.py` module, then for each question you can query the\n",
        "answer or an hint with `hint(n)` or `answer(n)` for `n` question number."
      ]
    },
    {
      "cell_type": "code",
      "execution_count": 2,
      "id": "c53ea877",
      "metadata": {
        "colab": {
          "base_uri": "https://localhost:8080/",
          "height": 144
        },
        "id": "c53ea877",
        "outputId": "365d8421-903f-4ace-fb19-e4e62aec6860"
      },
      "outputs": [
        {
          "output_type": "error",
          "ename": "NameError",
          "evalue": "name 'initialise' is not defined",
          "traceback": [
            "\u001b[0;31m---------------------------------------------------------------------------\u001b[0m",
            "\u001b[0;31mNameError\u001b[0m                                 Traceback (most recent call last)",
            "\u001b[0;32m/tmp/ipython-input-3650928963.py\u001b[0m in \u001b[0;36m<cell line: 0>\u001b[0;34m()\u001b[0m\n\u001b[0;32m----> 1\u001b[0;31m \u001b[0minitialise\u001b[0m\u001b[0;34m.\u001b[0m\u001b[0mpy\u001b[0m\u001b[0;34m\u001b[0m\u001b[0;34m\u001b[0m\u001b[0m\n\u001b[0m",
            "\u001b[0;31mNameError\u001b[0m: name 'initialise' is not defined"
          ]
        }
      ],
      "source": [
        "%run initialise.py"
      ]
    },
    {
      "cell_type": "markdown",
      "id": "c00df986",
      "metadata": {
        "id": "c00df986"
      },
      "source": [
        "#### 1. Import the numpy package under the name `np` (★☆☆)"
      ]
    },
    {
      "cell_type": "code",
      "execution_count": 3,
      "id": "35bde95c",
      "metadata": {
        "id": "35bde95c"
      },
      "outputs": [],
      "source": [
        "import numpy as np"
      ]
    },
    {
      "cell_type": "markdown",
      "id": "b555a89f",
      "metadata": {
        "id": "b555a89f"
      },
      "source": [
        "#### 2. Print the numpy version and the configuration (★☆☆)"
      ]
    },
    {
      "cell_type": "code",
      "execution_count": 9,
      "id": "2c9d363d",
      "metadata": {
        "colab": {
          "base_uri": "https://localhost:8080/"
        },
        "id": "2c9d363d",
        "outputId": "0f13494b-48e5-4e24-faf2-7e0cc8015e58"
      },
      "outputs": [
        {
          "output_type": "stream",
          "name": "stdout",
          "text": [
            "2.0.2\n"
          ]
        }
      ],
      "source": [
        "print (np.__version__)\n"
      ]
    },
    {
      "cell_type": "markdown",
      "id": "e2713407",
      "metadata": {
        "id": "e2713407"
      },
      "source": [
        "#### 3. Create a null vector of size 10 (★☆☆)"
      ]
    },
    {
      "cell_type": "code",
      "execution_count": 6,
      "id": "6df2f6db",
      "metadata": {
        "colab": {
          "base_uri": "https://localhost:8080/"
        },
        "id": "6df2f6db",
        "outputId": "1dc75fb6-3a8c-489b-f662-cb118ea7b5f2"
      },
      "outputs": [
        {
          "output_type": "stream",
          "name": "stdout",
          "text": [
            "[0. 0. 0. 0. 0. 0. 0. 0. 0. 0.]\n"
          ]
        }
      ],
      "source": [
        "A = np.zeros(10)\n",
        "print (A)"
      ]
    },
    {
      "cell_type": "markdown",
      "id": "5a09554f",
      "metadata": {
        "id": "5a09554f"
      },
      "source": [
        "#### 4. How to find the memory size of any array (★☆☆)"
      ]
    },
    {
      "cell_type": "code",
      "execution_count": 8,
      "id": "c55a2a00",
      "metadata": {
        "colab": {
          "base_uri": "https://localhost:8080/"
        },
        "id": "c55a2a00",
        "outputId": "5868c2e5-4bd2-4dbf-f9c6-cecedc56a839"
      },
      "outputs": [
        {
          "output_type": "stream",
          "name": "stdout",
          "text": [
            "80\n"
          ]
        }
      ],
      "source": [
        "c = A.size * A.itemsize\n",
        "print (c)"
      ]
    },
    {
      "cell_type": "markdown",
      "id": "4720d438",
      "metadata": {
        "id": "4720d438"
      },
      "source": [
        "#### 5. How to get the documentation of the numpy add function from the command line? (★☆☆)"
      ]
    },
    {
      "cell_type": "code",
      "execution_count": 11,
      "id": "d9e2277e",
      "metadata": {
        "colab": {
          "base_uri": "https://localhost:8080/"
        },
        "id": "d9e2277e",
        "outputId": "712b9c53-b647-4e57-f7ae-d7c58830adf4"
      },
      "outputs": [
        {
          "output_type": "stream",
          "name": "stdout",
          "text": [
            "add(x1, x2, /, out=None, *, where=True, casting='same_kind', order='K', dtype=None, subok=True[, signature])\n",
            "\n",
            "Add arguments element-wise.\n",
            "\n",
            "Parameters\n",
            "----------\n",
            "x1, x2 : array_like\n",
            "    The arrays to be added.\n",
            "    If ``x1.shape != x2.shape``, they must be broadcastable to a common\n",
            "    shape (which becomes the shape of the output).\n",
            "out : ndarray, None, or tuple of ndarray and None, optional\n",
            "    A location into which the result is stored. If provided, it must have\n",
            "    a shape that the inputs broadcast to. If not provided or None,\n",
            "    a freshly-allocated array is returned. A tuple (possible only as a\n",
            "    keyword argument) must have length equal to the number of outputs.\n",
            "where : array_like, optional\n",
            "    This condition is broadcast over the input. At locations where the\n",
            "    condition is True, the `out` array will be set to the ufunc result.\n",
            "    Elsewhere, the `out` array will retain its original value.\n",
            "    Note that if an uninitialized `out` array is created via the default\n",
            "    ``out=None``, locations within it where the condition is False will\n",
            "    remain uninitialized.\n",
            "**kwargs\n",
            "    For other keyword-only arguments, see the\n",
            "    :ref:`ufunc docs <ufuncs.kwargs>`.\n",
            "\n",
            "Returns\n",
            "-------\n",
            "add : ndarray or scalar\n",
            "    The sum of `x1` and `x2`, element-wise.\n",
            "    This is a scalar if both `x1` and `x2` are scalars.\n",
            "\n",
            "Notes\n",
            "-----\n",
            "Equivalent to `x1` + `x2` in terms of array broadcasting.\n",
            "\n",
            "Examples\n",
            "--------\n",
            ">>> np.add(1.0, 4.0)\n",
            "5.0\n",
            ">>> x1 = np.arange(9.0).reshape((3, 3))\n",
            ">>> x2 = np.arange(3.0)\n",
            ">>> np.add(x1, x2)\n",
            "array([[  0.,   2.,   4.],\n",
            "       [  3.,   5.,   7.],\n",
            "       [  6.,   8.,  10.]])\n",
            "\n",
            "The ``+`` operator can be used as a shorthand for ``np.add`` on ndarrays.\n",
            "\n",
            ">>> x1 = np.arange(9.0).reshape((3, 3))\n",
            ">>> x2 = np.arange(3.0)\n",
            ">>> x1 + x2\n",
            "array([[ 0.,  2.,  4.],\n",
            "       [ 3.,  5.,  7.],\n",
            "       [ 6.,  8., 10.]])\n",
            "None\n"
          ]
        }
      ],
      "source": [
        "print (np.info(np.add))"
      ]
    },
    {
      "cell_type": "markdown",
      "id": "b812d322",
      "metadata": {
        "id": "b812d322"
      },
      "source": [
        "#### 6. Create a null vector of size 10 but the fifth value which is 1 (★☆☆)"
      ]
    },
    {
      "cell_type": "code",
      "execution_count": 12,
      "id": "9f95cedf",
      "metadata": {
        "colab": {
          "base_uri": "https://localhost:8080/"
        },
        "id": "9f95cedf",
        "outputId": "686be47a-fd12-4f49-c329-735c36d3b5b6"
      },
      "outputs": [
        {
          "output_type": "stream",
          "name": "stdout",
          "text": [
            "[0. 0. 0. 0. 1. 0. 0. 0. 0. 0.]\n"
          ]
        }
      ],
      "source": [
        "A =np.zeros(10)\n",
        "A[4] = 1\n",
        "print (A)"
      ]
    },
    {
      "cell_type": "markdown",
      "id": "a348f2a8",
      "metadata": {
        "id": "a348f2a8"
      },
      "source": [
        "#### 7. Create a vector with values ranging from 10 to 49 (★☆☆)"
      ]
    },
    {
      "cell_type": "code",
      "execution_count": 13,
      "id": "5a68fd5b",
      "metadata": {
        "colab": {
          "base_uri": "https://localhost:8080/"
        },
        "id": "5a68fd5b",
        "outputId": "8cb65ca6-4e3c-4351-e16a-d1db40d16478"
      },
      "outputs": [
        {
          "output_type": "stream",
          "name": "stdout",
          "text": [
            "[10 11 12 13 14 15 16 17 18 19 20 21 22 23 24 25 26 27 28 29 30 31 32 33\n",
            " 34 35 36 37 38 39 40 41 42 43 44 45 46 47 48 49]\n"
          ]
        }
      ],
      "source": [
        "V = np.arange(10,50)\n",
        "print (V)"
      ]
    },
    {
      "cell_type": "markdown",
      "id": "2f4ca4c0",
      "metadata": {
        "id": "2f4ca4c0"
      },
      "source": [
        "#### 8. Reverse a vector (first element becomes last) (★☆☆)"
      ]
    },
    {
      "cell_type": "code",
      "execution_count": 16,
      "id": "1892e775",
      "metadata": {
        "colab": {
          "base_uri": "https://localhost:8080/"
        },
        "id": "1892e775",
        "outputId": "8b7e3230-75d3-4b9b-bed8-779ffc57e5c3"
      },
      "outputs": [
        {
          "output_type": "stream",
          "name": "stdout",
          "text": [
            "[49 48 47 46 45 44 43 42 41 40 39 38 37 36 35 34 33 32 31 30 29 28 27 26\n",
            " 25 24 23 22 21 20 19 18 17 16 15 14 13 12 11 10]\n"
          ]
        }
      ],
      "source": [
        "V = V[::-1]\n",
        "print (V)"
      ]
    },
    {
      "cell_type": "markdown",
      "id": "31381832",
      "metadata": {
        "id": "31381832"
      },
      "source": [
        "#### 9. Create a 3x3 matrix with values ranging from 0 to 8 (★☆☆)"
      ]
    },
    {
      "cell_type": "code",
      "execution_count": 17,
      "id": "0154f251",
      "metadata": {
        "colab": {
          "base_uri": "https://localhost:8080/"
        },
        "id": "0154f251",
        "outputId": "ff60932d-9806-4926-a5fa-59b27128a20b"
      },
      "outputs": [
        {
          "output_type": "stream",
          "name": "stdout",
          "text": [
            "[[0 1 2]\n",
            " [3 4 5]\n",
            " [6 7 8]]\n"
          ]
        }
      ],
      "source": [
        "X = np.arange(0,9).reshape(3,3)\n",
        "print (X)"
      ]
    },
    {
      "cell_type": "markdown",
      "id": "8c353e84",
      "metadata": {
        "id": "8c353e84"
      },
      "source": [
        "#### 10. Find indices of non-zero elements from [1,2,0,0,4,0] (★☆☆)"
      ]
    },
    {
      "cell_type": "code",
      "execution_count": 18,
      "id": "da3495c3",
      "metadata": {
        "colab": {
          "base_uri": "https://localhost:8080/"
        },
        "id": "da3495c3",
        "outputId": "eab6daf0-0c26-43a3-9b52-bc5f4eccf734"
      },
      "outputs": [
        {
          "output_type": "stream",
          "name": "stdout",
          "text": [
            "(array([0, 1, 4]),)\n"
          ]
        }
      ],
      "source": [
        "x = np.array([1,2,0,0,4,0])\n",
        "y = np.nonzero(x)\n",
        "print (y)"
      ]
    },
    {
      "cell_type": "markdown",
      "id": "a26ac749",
      "metadata": {
        "id": "a26ac749"
      },
      "source": [
        "#### 11. Create a 3x3 identity matrix (★☆☆)"
      ]
    },
    {
      "cell_type": "code",
      "execution_count": 20,
      "id": "3e33feda",
      "metadata": {
        "colab": {
          "base_uri": "https://localhost:8080/"
        },
        "id": "3e33feda",
        "outputId": "6ce99b17-5f89-4b21-cded-612a0a5839ba"
      },
      "outputs": [
        {
          "output_type": "stream",
          "name": "stdout",
          "text": [
            "[[1. 0. 0.]\n",
            " [0. 1. 0.]\n",
            " [0. 0. 1.]]\n",
            "[[1. 0. 0.]\n",
            " [0. 1. 0.]\n",
            " [0. 0. 1.]]\n"
          ]
        }
      ],
      "source": [
        "# 3 x 3 identity matrix\n",
        "I = np.eye(3)\n",
        "print (I)\n",
        "\n",
        "Y = np.identity(3)\n",
        "print (Y)"
      ]
    },
    {
      "cell_type": "markdown",
      "id": "3a293379",
      "metadata": {
        "id": "3a293379"
      },
      "source": [
        "#### 12. Create a 3x3x3 array with random values (★☆☆)"
      ]
    },
    {
      "cell_type": "code",
      "execution_count": 21,
      "id": "2da08152",
      "metadata": {
        "colab": {
          "base_uri": "https://localhost:8080/"
        },
        "id": "2da08152",
        "outputId": "4dd38b66-7751-4bc2-95ac-a9d8d996090b"
      },
      "outputs": [
        {
          "output_type": "stream",
          "name": "stdout",
          "text": [
            "[[[0.01473548 0.28777702 0.77944349]\n",
            "  [0.65010753 0.51277332 0.62758488]\n",
            "  [0.84375678 0.80359028 0.82599183]]\n",
            "\n",
            " [[0.65690568 0.52729873 0.7982848 ]\n",
            "  [0.53556319 0.20100908 0.331613  ]\n",
            "  [0.97025096 0.26808669 0.04196769]]\n",
            "\n",
            " [[0.43389219 0.78812053 0.10926877]\n",
            "  [0.3310766  0.85050234 0.58681078]\n",
            "  [0.9339992  0.52301897 0.26187736]]]\n"
          ]
        }
      ],
      "source": [
        "rang = np.random.random((3,3,3))\n",
        "print (rang)"
      ]
    },
    {
      "cell_type": "markdown",
      "id": "e3faa924",
      "metadata": {
        "id": "e3faa924"
      },
      "source": [
        "#### 13. Create a 10x10 array with random values and find the minimum and maximum values (★☆☆)"
      ]
    },
    {
      "cell_type": "code",
      "execution_count": 22,
      "id": "e9fb3793",
      "metadata": {
        "colab": {
          "base_uri": "https://localhost:8080/"
        },
        "id": "e9fb3793",
        "outputId": "ad2b7fed-6492-48b7-962e-6d30e6924c9e"
      },
      "outputs": [
        {
          "output_type": "stream",
          "name": "stdout",
          "text": [
            "[[0.16171911 0.3426049  0.36225359 0.55352147 0.03091738 0.29149786\n",
            "  0.28369756 0.89970535 0.34731887 0.27739003]\n",
            " [0.3676432  0.40776062 0.91664709 0.35088757 0.86875243 0.9230639\n",
            "  0.0612815  0.11737246 0.8933119  0.9118721 ]\n",
            " [0.86465331 0.24950384 0.03936451 0.88384412 0.24939188 0.08385839\n",
            "  0.29294175 0.59625407 0.37986427 0.62581706]\n",
            " [0.93753802 0.28763795 0.75591704 0.8765716  0.93187316 0.47495957\n",
            "  0.17062327 0.92766727 0.95308482 0.63808165]\n",
            " [0.48234017 0.21336662 0.86884039 0.48306601 0.80074623 0.85486905\n",
            "  0.85923569 0.87920495 0.86831687 0.95923354]\n",
            " [0.67789937 0.25647299 0.60646731 0.16205173 0.75130053 0.83624407\n",
            "  0.74839658 0.270156   0.56362684 0.58524339]\n",
            " [0.64920735 0.15061255 0.62499179 0.36264649 0.39305692 0.27968474\n",
            "  0.34777445 0.58948779 0.65767795 0.95484346]\n",
            " [0.01814175 0.04951028 0.71804792 0.84282879 0.91676872 0.55738234\n",
            "  0.84789443 0.41872351 0.0292717  0.87290902]\n",
            " [0.52132398 0.37077017 0.91182279 0.18882473 0.854245   0.14874192\n",
            "  0.56610625 0.69643065 0.95138876 0.80180189]\n",
            " [0.37352929 0.76089936 0.54551533 0.29383668 0.53165099 0.17306812\n",
            "  0.10433342 0.92623342 0.43032634 0.0827424 ]]\n",
            "0.018141749640477656\n",
            "0.9592335394007941\n"
          ]
        }
      ],
      "source": [
        "a = np.random.random((10,10))\n",
        "print (a)\n",
        "print (a.min())\n",
        "print (a.max())"
      ]
    },
    {
      "cell_type": "markdown",
      "id": "317cb8d1",
      "metadata": {
        "id": "317cb8d1"
      },
      "source": [
        "#### 14. Create a random vector of size 30 and find the mean value (★☆☆)"
      ]
    },
    {
      "cell_type": "code",
      "execution_count": 23,
      "id": "4ea995d6",
      "metadata": {
        "colab": {
          "base_uri": "https://localhost:8080/"
        },
        "id": "4ea995d6",
        "outputId": "99c4364a-bb33-4f8f-a300-a220cd3bcc69"
      },
      "outputs": [
        {
          "output_type": "stream",
          "name": "stdout",
          "text": [
            "[0.06786892 0.63718536 0.57612584 0.16012248 0.32529592 0.38898796\n",
            " 0.84370522 0.99285914 0.68060914 0.51047073 0.42358493 0.57269888\n",
            " 0.90464274 0.68851874 0.82638639 0.65653322 0.44017912 0.08236403\n",
            " 0.1608848  0.23174014 0.2086485  0.46614801 0.28326052 0.53463486\n",
            " 0.85548859 0.58970033 0.98999365 0.50662318 0.72025128 0.1908969 ]\n",
            "0.5172136506354735\n"
          ]
        }
      ],
      "source": [
        "b= np.random.random(30)\n",
        "print (b)\n",
        "print (b.mean())"
      ]
    },
    {
      "cell_type": "markdown",
      "id": "b8dee0f2",
      "metadata": {
        "id": "b8dee0f2"
      },
      "source": [
        "#### 15. Create a 2d array with 1 on the border and 0 inside (★☆☆)"
      ]
    },
    {
      "cell_type": "code",
      "execution_count": 24,
      "id": "7054464b",
      "metadata": {
        "colab": {
          "base_uri": "https://localhost:8080/"
        },
        "id": "7054464b",
        "outputId": "787d3a8a-8bcc-4c3a-fe2f-e76e80abe59a"
      },
      "outputs": [
        {
          "output_type": "stream",
          "name": "stdout",
          "text": [
            "[[1. 1. 1. 1. 1. 1. 1. 1. 1. 1.]\n",
            " [1. 0. 0. 0. 0. 0. 0. 0. 0. 1.]\n",
            " [1. 0. 0. 0. 0. 0. 0. 0. 0. 1.]\n",
            " [1. 0. 0. 0. 0. 0. 0. 0. 0. 1.]\n",
            " [1. 0. 0. 0. 0. 0. 0. 0. 0. 1.]\n",
            " [1. 0. 0. 0. 0. 0. 0. 0. 0. 1.]\n",
            " [1. 0. 0. 0. 0. 0. 0. 0. 0. 1.]\n",
            " [1. 0. 0. 0. 0. 0. 0. 0. 0. 1.]\n",
            " [1. 0. 0. 0. 0. 0. 0. 0. 0. 1.]\n",
            " [1. 1. 1. 1. 1. 1. 1. 1. 1. 1.]]\n"
          ]
        }
      ],
      "source": [
        "c = np.ones((10,10))\n",
        "c[1:-1,1:-1] = 0\n",
        "print (c)"
      ]
    },
    {
      "cell_type": "markdown",
      "id": "1476f45f",
      "metadata": {
        "id": "1476f45f"
      },
      "source": [
        "#### 16. How to add a border (filled with 0's) around an existing array? (★☆☆)"
      ]
    },
    {
      "cell_type": "code",
      "execution_count": null,
      "id": "4f0212af",
      "metadata": {
        "id": "4f0212af"
      },
      "outputs": [],
      "source": []
    },
    {
      "cell_type": "markdown",
      "id": "52844dc7",
      "metadata": {
        "id": "52844dc7"
      },
      "source": [
        "#### 17. What is the result of the following expression? (★☆☆)\n",
        "```python\n",
        "0 * np.nan\n",
        "np.nan == np.nan\n",
        "np.inf > np.nan\n",
        "np.nan - np.nan\n",
        "np.nan in set([np.nan])\n",
        "0.3 == 3 * 0.1\n",
        "```"
      ]
    },
    {
      "cell_type": "code",
      "execution_count": null,
      "id": "cfdb7352",
      "metadata": {
        "id": "cfdb7352"
      },
      "outputs": [],
      "source": []
    },
    {
      "cell_type": "markdown",
      "id": "9801c961",
      "metadata": {
        "id": "9801c961"
      },
      "source": [
        "#### 18. Create a 5x5 matrix with values 1,2,3,4 just below the diagonal (★☆☆)"
      ]
    },
    {
      "cell_type": "code",
      "execution_count": null,
      "id": "4e97651a",
      "metadata": {
        "id": "4e97651a"
      },
      "outputs": [],
      "source": []
    },
    {
      "cell_type": "markdown",
      "id": "3dc05e9f",
      "metadata": {
        "id": "3dc05e9f"
      },
      "source": [
        "#### 19. Create a 8x8 matrix and fill it with a checkerboard pattern (★☆☆)"
      ]
    },
    {
      "cell_type": "code",
      "execution_count": null,
      "id": "0b100b85",
      "metadata": {
        "id": "0b100b85"
      },
      "outputs": [],
      "source": []
    },
    {
      "cell_type": "markdown",
      "id": "d8e941b6",
      "metadata": {
        "id": "d8e941b6"
      },
      "source": [
        "#### 20. Consider a (6,7,8) shape array, what is the index (x,y,z) of the 100th element? (★☆☆)"
      ]
    },
    {
      "cell_type": "code",
      "execution_count": null,
      "id": "b3bc1fcb",
      "metadata": {
        "id": "b3bc1fcb"
      },
      "outputs": [],
      "source": []
    },
    {
      "cell_type": "markdown",
      "id": "bf3b8ab3",
      "metadata": {
        "id": "bf3b8ab3"
      },
      "source": [
        "#### 21. Create a checkerboard 8x8 matrix using the tile function (★☆☆)"
      ]
    },
    {
      "cell_type": "code",
      "execution_count": null,
      "id": "eb15c681",
      "metadata": {
        "id": "eb15c681"
      },
      "outputs": [],
      "source": []
    },
    {
      "cell_type": "markdown",
      "id": "71af9d19",
      "metadata": {
        "id": "71af9d19"
      },
      "source": [
        "#### 22. Normalize a 5x5 random matrix (★☆☆)"
      ]
    },
    {
      "cell_type": "code",
      "execution_count": null,
      "id": "df20b788",
      "metadata": {
        "id": "df20b788"
      },
      "outputs": [],
      "source": []
    },
    {
      "cell_type": "markdown",
      "id": "01cd9893",
      "metadata": {
        "id": "01cd9893"
      },
      "source": [
        "#### 23. Create a custom dtype that describes a color as four unsigned bytes (RGBA) (★☆☆)"
      ]
    },
    {
      "cell_type": "code",
      "execution_count": null,
      "id": "4acddc2f",
      "metadata": {
        "id": "4acddc2f"
      },
      "outputs": [],
      "source": []
    },
    {
      "cell_type": "markdown",
      "id": "0ef5f38b",
      "metadata": {
        "id": "0ef5f38b"
      },
      "source": [
        "#### 24. Multiply a 5x3 matrix by a 3x2 matrix (real matrix product) (★☆☆)"
      ]
    },
    {
      "cell_type": "code",
      "execution_count": null,
      "id": "3d36d4a0",
      "metadata": {
        "id": "3d36d4a0"
      },
      "outputs": [],
      "source": []
    },
    {
      "cell_type": "markdown",
      "id": "a46db425",
      "metadata": {
        "id": "a46db425"
      },
      "source": [
        "#### 25. Given a 1D array, negate all elements which are between 3 and 8, in place. (★☆☆)"
      ]
    },
    {
      "cell_type": "code",
      "execution_count": null,
      "id": "86e3d6a8",
      "metadata": {
        "id": "86e3d6a8"
      },
      "outputs": [],
      "source": []
    },
    {
      "cell_type": "markdown",
      "id": "89fa6007",
      "metadata": {
        "id": "89fa6007"
      },
      "source": [
        "#### 26. What is the output of the following script? (★☆☆)\n",
        "```python\n",
        "# Author: Jake VanderPlas\n",
        "\n",
        "print(sum(range(5),-1))\n",
        "from numpy import *\n",
        "print(sum(range(5),-1))\n",
        "```"
      ]
    },
    {
      "cell_type": "code",
      "execution_count": null,
      "id": "59f2c6dc",
      "metadata": {
        "id": "59f2c6dc"
      },
      "outputs": [],
      "source": []
    },
    {
      "cell_type": "markdown",
      "id": "38de4589",
      "metadata": {
        "id": "38de4589"
      },
      "source": [
        "#### 27. Consider an integer vector Z, which of these expressions are legal? (★☆☆)\n",
        "```python\n",
        "Z**Z\n",
        "2 << Z >> 2\n",
        "Z <- Z\n",
        "1j*Z\n",
        "Z/1/1\n",
        "Z<Z>Z\n",
        "```"
      ]
    },
    {
      "cell_type": "code",
      "execution_count": null,
      "id": "a9dc9520",
      "metadata": {
        "id": "a9dc9520"
      },
      "outputs": [],
      "source": []
    },
    {
      "cell_type": "markdown",
      "id": "77c8b8c7",
      "metadata": {
        "id": "77c8b8c7"
      },
      "source": [
        "#### 28. What are the result of the following expressions? (★☆☆)\n",
        "```python\n",
        "np.array(0) / np.array(0)\n",
        "np.array(0) // np.array(0)\n",
        "np.array([np.nan]).astype(int).astype(float)\n",
        "```"
      ]
    },
    {
      "cell_type": "code",
      "execution_count": null,
      "id": "3b66fe44",
      "metadata": {
        "id": "3b66fe44"
      },
      "outputs": [],
      "source": []
    },
    {
      "cell_type": "markdown",
      "id": "1f3f0892",
      "metadata": {
        "id": "1f3f0892"
      },
      "source": [
        "#### 29. How to round away from zero a float array ? (★☆☆)"
      ]
    },
    {
      "cell_type": "code",
      "execution_count": null,
      "id": "8fce1bd7",
      "metadata": {
        "id": "8fce1bd7"
      },
      "outputs": [],
      "source": []
    },
    {
      "cell_type": "markdown",
      "id": "53f47438",
      "metadata": {
        "id": "53f47438"
      },
      "source": [
        "#### 30. How to find common values between two arrays? (★☆☆)"
      ]
    },
    {
      "cell_type": "code",
      "execution_count": null,
      "id": "981db6ec",
      "metadata": {
        "id": "981db6ec"
      },
      "outputs": [],
      "source": []
    },
    {
      "cell_type": "markdown",
      "id": "51cf9109",
      "metadata": {
        "id": "51cf9109"
      },
      "source": [
        "#### 31. How to ignore all numpy warnings (not recommended)? (★☆☆)"
      ]
    },
    {
      "cell_type": "code",
      "execution_count": null,
      "id": "09ba7521",
      "metadata": {
        "id": "09ba7521"
      },
      "outputs": [],
      "source": []
    },
    {
      "cell_type": "markdown",
      "id": "948a691b",
      "metadata": {
        "id": "948a691b"
      },
      "source": [
        "#### 32. Is the following expressions true? (★☆☆)\n",
        "```python\n",
        "np.sqrt(-1) == np.emath.sqrt(-1)\n",
        "```"
      ]
    },
    {
      "cell_type": "code",
      "execution_count": null,
      "id": "6d8f745b",
      "metadata": {
        "id": "6d8f745b"
      },
      "outputs": [],
      "source": []
    },
    {
      "cell_type": "markdown",
      "id": "d1a8992e",
      "metadata": {
        "id": "d1a8992e"
      },
      "source": [
        "#### 33. How to get the dates of yesterday, today and tomorrow? (★☆☆)"
      ]
    },
    {
      "cell_type": "code",
      "execution_count": null,
      "id": "31a1ade2",
      "metadata": {
        "id": "31a1ade2"
      },
      "outputs": [],
      "source": []
    },
    {
      "cell_type": "markdown",
      "id": "01378794",
      "metadata": {
        "id": "01378794"
      },
      "source": [
        "#### 34. How to get all the dates corresponding to the month of July 2016? (★★☆)"
      ]
    },
    {
      "cell_type": "code",
      "execution_count": null,
      "id": "928c55c6",
      "metadata": {
        "id": "928c55c6"
      },
      "outputs": [],
      "source": []
    },
    {
      "cell_type": "markdown",
      "id": "e3f8fe94",
      "metadata": {
        "id": "e3f8fe94"
      },
      "source": [
        "#### 35. How to compute ((A+B)*(-A/2)) in place (without copy)? (★★☆)"
      ]
    },
    {
      "cell_type": "code",
      "execution_count": null,
      "id": "14e478d5",
      "metadata": {
        "id": "14e478d5"
      },
      "outputs": [],
      "source": []
    },
    {
      "cell_type": "markdown",
      "id": "5c4d58c9",
      "metadata": {
        "id": "5c4d58c9"
      },
      "source": [
        "#### 36. Extract the integer part of a random array of positive numbers using 4 different methods (★★☆)"
      ]
    },
    {
      "cell_type": "code",
      "execution_count": null,
      "id": "586beded",
      "metadata": {
        "id": "586beded"
      },
      "outputs": [],
      "source": []
    },
    {
      "cell_type": "markdown",
      "id": "62628653",
      "metadata": {
        "id": "62628653"
      },
      "source": [
        "#### 37. Create a 5x5 matrix with row values ranging from 0 to 4 (★★☆)"
      ]
    },
    {
      "cell_type": "code",
      "execution_count": null,
      "id": "e57763b3",
      "metadata": {
        "id": "e57763b3"
      },
      "outputs": [],
      "source": []
    },
    {
      "cell_type": "markdown",
      "id": "d3d46d64",
      "metadata": {
        "id": "d3d46d64"
      },
      "source": [
        "#### 38. Consider a generator function that generates 10 integers and use it to build an array (★☆☆)"
      ]
    },
    {
      "cell_type": "code",
      "execution_count": null,
      "id": "24590d8c",
      "metadata": {
        "id": "24590d8c"
      },
      "outputs": [],
      "source": []
    },
    {
      "cell_type": "markdown",
      "id": "5e1e51e4",
      "metadata": {
        "id": "5e1e51e4"
      },
      "source": [
        "#### 39. Create a vector of size 10 with values ranging from 0 to 1, both excluded (★★☆)"
      ]
    },
    {
      "cell_type": "code",
      "execution_count": null,
      "id": "def73884",
      "metadata": {
        "id": "def73884"
      },
      "outputs": [],
      "source": []
    },
    {
      "cell_type": "markdown",
      "id": "9e19964c",
      "metadata": {
        "id": "9e19964c"
      },
      "source": [
        "#### 40. Create a random vector of size 10 and sort it (★★☆)"
      ]
    },
    {
      "cell_type": "code",
      "execution_count": null,
      "id": "ec302eb1",
      "metadata": {
        "id": "ec302eb1"
      },
      "outputs": [],
      "source": []
    },
    {
      "cell_type": "markdown",
      "id": "13a034e2",
      "metadata": {
        "id": "13a034e2"
      },
      "source": [
        "#### 41. How to sum a small array faster than np.sum? (★★☆)"
      ]
    },
    {
      "cell_type": "code",
      "execution_count": null,
      "id": "b09a3551",
      "metadata": {
        "id": "b09a3551"
      },
      "outputs": [],
      "source": []
    },
    {
      "cell_type": "markdown",
      "id": "32d10473",
      "metadata": {
        "id": "32d10473"
      },
      "source": [
        "#### 42. Consider two random arrays A and B, check if they are equal (★★☆)"
      ]
    },
    {
      "cell_type": "code",
      "execution_count": null,
      "id": "5ebb1103",
      "metadata": {
        "id": "5ebb1103"
      },
      "outputs": [],
      "source": []
    },
    {
      "cell_type": "markdown",
      "id": "a50474b0",
      "metadata": {
        "id": "a50474b0"
      },
      "source": [
        "#### 43. Make an array immutable (read-only) (★★☆)"
      ]
    },
    {
      "cell_type": "code",
      "execution_count": null,
      "id": "db6fe176",
      "metadata": {
        "id": "db6fe176"
      },
      "outputs": [],
      "source": []
    },
    {
      "cell_type": "markdown",
      "id": "b7a6093e",
      "metadata": {
        "id": "b7a6093e"
      },
      "source": [
        "#### 44. Consider a random 10x2 matrix representing cartesian coordinates, convert them to polar coordinates (★★☆)"
      ]
    },
    {
      "cell_type": "code",
      "execution_count": null,
      "id": "4479c48d",
      "metadata": {
        "id": "4479c48d"
      },
      "outputs": [],
      "source": []
    },
    {
      "cell_type": "markdown",
      "id": "934f889c",
      "metadata": {
        "id": "934f889c"
      },
      "source": [
        "#### 45. Create random vector of size 10 and replace the maximum value by 0 (★★☆)"
      ]
    },
    {
      "cell_type": "code",
      "execution_count": null,
      "id": "4b576814",
      "metadata": {
        "id": "4b576814"
      },
      "outputs": [],
      "source": []
    },
    {
      "cell_type": "markdown",
      "id": "d4f6e2e1",
      "metadata": {
        "id": "d4f6e2e1"
      },
      "source": [
        "#### 46. Create a structured array with `x` and `y` coordinates covering the [0,1]x[0,1] area (★★☆)"
      ]
    },
    {
      "cell_type": "code",
      "execution_count": null,
      "id": "f90f969b",
      "metadata": {
        "id": "f90f969b"
      },
      "outputs": [],
      "source": []
    },
    {
      "cell_type": "markdown",
      "id": "bc9c88d3",
      "metadata": {
        "id": "bc9c88d3"
      },
      "source": [
        "#### 47. Given two arrays, X and Y, construct the Cauchy matrix C (Cij =1/(xi - yj)) (★★☆)"
      ]
    },
    {
      "cell_type": "code",
      "execution_count": null,
      "id": "e90ad595",
      "metadata": {
        "id": "e90ad595"
      },
      "outputs": [],
      "source": []
    },
    {
      "cell_type": "markdown",
      "id": "a840a52f",
      "metadata": {
        "id": "a840a52f"
      },
      "source": [
        "#### 48. Print the minimum and maximum representable values for each numpy scalar type (★★☆)"
      ]
    },
    {
      "cell_type": "code",
      "execution_count": null,
      "id": "d2eb3b4a",
      "metadata": {
        "id": "d2eb3b4a"
      },
      "outputs": [],
      "source": []
    },
    {
      "cell_type": "markdown",
      "id": "0a0819d5",
      "metadata": {
        "id": "0a0819d5"
      },
      "source": [
        "#### 49. How to print all the values of an array? (★★☆)"
      ]
    },
    {
      "cell_type": "code",
      "execution_count": null,
      "id": "d76dbf55",
      "metadata": {
        "id": "d76dbf55"
      },
      "outputs": [],
      "source": []
    },
    {
      "cell_type": "markdown",
      "id": "50c62214",
      "metadata": {
        "id": "50c62214"
      },
      "source": [
        "#### 50. How to find the closest value (to a given scalar) in a vector? (★★☆)"
      ]
    },
    {
      "cell_type": "code",
      "execution_count": null,
      "id": "24b45bb5",
      "metadata": {
        "id": "24b45bb5"
      },
      "outputs": [],
      "source": []
    },
    {
      "cell_type": "markdown",
      "id": "4c5a5116",
      "metadata": {
        "id": "4c5a5116"
      },
      "source": [
        "#### 51. Create a structured array representing a position (x,y) and a color (r,g,b) (★★☆)"
      ]
    },
    {
      "cell_type": "code",
      "execution_count": null,
      "id": "275806b2",
      "metadata": {
        "id": "275806b2"
      },
      "outputs": [],
      "source": []
    },
    {
      "cell_type": "markdown",
      "id": "1d3399ca",
      "metadata": {
        "id": "1d3399ca"
      },
      "source": [
        "#### 52. Consider a random vector with shape (100,2) representing coordinates, find point by point distances (★★☆)"
      ]
    },
    {
      "cell_type": "code",
      "execution_count": null,
      "id": "67eae5bf",
      "metadata": {
        "id": "67eae5bf"
      },
      "outputs": [],
      "source": []
    },
    {
      "cell_type": "markdown",
      "id": "003ff920",
      "metadata": {
        "id": "003ff920"
      },
      "source": [
        "#### 53. How to convert a float (32 bits) array into an integer (32 bits) array in place?"
      ]
    },
    {
      "cell_type": "code",
      "execution_count": null,
      "id": "76245e6d",
      "metadata": {
        "id": "76245e6d"
      },
      "outputs": [],
      "source": []
    },
    {
      "cell_type": "markdown",
      "id": "0c99eac4",
      "metadata": {
        "id": "0c99eac4"
      },
      "source": [
        "#### 54. How to read the following file? (★★☆)\n",
        "```\n",
        "1, 2, 3, 4, 5\n",
        "6,  ,  , 7, 8\n",
        " ,  , 9,10,11\n",
        "```"
      ]
    },
    {
      "cell_type": "code",
      "execution_count": null,
      "id": "55c6bf8c",
      "metadata": {
        "id": "55c6bf8c"
      },
      "outputs": [],
      "source": []
    },
    {
      "cell_type": "markdown",
      "id": "8cd30360",
      "metadata": {
        "id": "8cd30360"
      },
      "source": [
        "#### 55. What is the equivalent of enumerate for numpy arrays? (★★☆)"
      ]
    },
    {
      "cell_type": "code",
      "execution_count": null,
      "id": "608315ba",
      "metadata": {
        "id": "608315ba"
      },
      "outputs": [],
      "source": []
    },
    {
      "cell_type": "markdown",
      "id": "4823a294",
      "metadata": {
        "id": "4823a294"
      },
      "source": [
        "#### 56. Generate a generic 2D Gaussian-like array (★★☆)"
      ]
    },
    {
      "cell_type": "code",
      "execution_count": null,
      "id": "9b3b682d",
      "metadata": {
        "id": "9b3b682d"
      },
      "outputs": [],
      "source": []
    },
    {
      "cell_type": "markdown",
      "id": "2dd8891d",
      "metadata": {
        "id": "2dd8891d"
      },
      "source": [
        "#### 57. How to randomly place p elements in a 2D array? (★★☆)"
      ]
    },
    {
      "cell_type": "code",
      "execution_count": null,
      "id": "a55c52dc",
      "metadata": {
        "id": "a55c52dc"
      },
      "outputs": [],
      "source": []
    },
    {
      "cell_type": "markdown",
      "id": "270b6834",
      "metadata": {
        "id": "270b6834"
      },
      "source": [
        "#### 58. Subtract the mean of each row of a matrix (★★☆)"
      ]
    },
    {
      "cell_type": "code",
      "execution_count": null,
      "id": "814080c9",
      "metadata": {
        "id": "814080c9"
      },
      "outputs": [],
      "source": []
    },
    {
      "cell_type": "markdown",
      "id": "52c92916",
      "metadata": {
        "id": "52c92916"
      },
      "source": [
        "#### 59. How to sort an array by the nth column? (★★☆)"
      ]
    },
    {
      "cell_type": "code",
      "execution_count": null,
      "id": "c6ebac6d",
      "metadata": {
        "id": "c6ebac6d"
      },
      "outputs": [],
      "source": []
    },
    {
      "cell_type": "markdown",
      "id": "05cef60b",
      "metadata": {
        "id": "05cef60b"
      },
      "source": [
        "#### 60. How to tell if a given 2D array has null columns? (★★☆)"
      ]
    },
    {
      "cell_type": "code",
      "execution_count": null,
      "id": "7979b467",
      "metadata": {
        "id": "7979b467"
      },
      "outputs": [],
      "source": []
    },
    {
      "cell_type": "markdown",
      "id": "4891fdf5",
      "metadata": {
        "id": "4891fdf5"
      },
      "source": [
        "#### 61. Find the nearest value from a given value in an array (★★☆)"
      ]
    },
    {
      "cell_type": "code",
      "execution_count": null,
      "id": "b38950fd",
      "metadata": {
        "id": "b38950fd"
      },
      "outputs": [],
      "source": []
    },
    {
      "cell_type": "markdown",
      "id": "b34bfbc7",
      "metadata": {
        "id": "b34bfbc7"
      },
      "source": [
        "#### 62. Considering two arrays with shape (1,3) and (3,1), how to compute their sum using an iterator? (★★☆)"
      ]
    },
    {
      "cell_type": "code",
      "execution_count": null,
      "id": "aa7eb006",
      "metadata": {
        "id": "aa7eb006"
      },
      "outputs": [],
      "source": []
    },
    {
      "cell_type": "markdown",
      "id": "77a27b83",
      "metadata": {
        "id": "77a27b83"
      },
      "source": [
        "#### 63. Create an array class that has a name attribute (★★☆)"
      ]
    },
    {
      "cell_type": "code",
      "execution_count": null,
      "id": "a2a83936",
      "metadata": {
        "id": "a2a83936"
      },
      "outputs": [],
      "source": []
    },
    {
      "cell_type": "markdown",
      "id": "f7f5d229",
      "metadata": {
        "id": "f7f5d229"
      },
      "source": [
        "#### 64. Consider a given vector, how to add 1 to each element indexed by a second vector (be careful with repeated indices)? (★★★)"
      ]
    },
    {
      "cell_type": "code",
      "execution_count": null,
      "id": "9b8f8f48",
      "metadata": {
        "id": "9b8f8f48"
      },
      "outputs": [],
      "source": []
    },
    {
      "cell_type": "markdown",
      "id": "b067fca8",
      "metadata": {
        "id": "b067fca8"
      },
      "source": [
        "#### 65. How to accumulate elements of a vector (X) to an array (F) based on an index list (I)? (★★★)"
      ]
    },
    {
      "cell_type": "code",
      "execution_count": null,
      "id": "f983f8ba",
      "metadata": {
        "id": "f983f8ba"
      },
      "outputs": [],
      "source": []
    },
    {
      "cell_type": "markdown",
      "id": "765e2b8e",
      "metadata": {
        "id": "765e2b8e"
      },
      "source": [
        "#### 66. Considering a (w,h,3) image of (dtype=ubyte), compute the number of unique colors (★★☆)"
      ]
    },
    {
      "cell_type": "code",
      "execution_count": null,
      "id": "7572d90d",
      "metadata": {
        "id": "7572d90d"
      },
      "outputs": [],
      "source": []
    },
    {
      "cell_type": "markdown",
      "id": "02743317",
      "metadata": {
        "id": "02743317"
      },
      "source": [
        "#### 67. Considering a four dimensions array, how to get sum over the last two axis at once? (★★★)"
      ]
    },
    {
      "cell_type": "code",
      "execution_count": null,
      "id": "980b5c45",
      "metadata": {
        "id": "980b5c45"
      },
      "outputs": [],
      "source": []
    },
    {
      "cell_type": "markdown",
      "id": "fe8b8107",
      "metadata": {
        "id": "fe8b8107"
      },
      "source": [
        "#### 68. Considering a one-dimensional vector D, how to compute means of subsets of D using a vector S of same size describing subset  indices? (★★★)"
      ]
    },
    {
      "cell_type": "code",
      "execution_count": null,
      "id": "9c17c8c9",
      "metadata": {
        "id": "9c17c8c9"
      },
      "outputs": [],
      "source": []
    },
    {
      "cell_type": "markdown",
      "id": "7efa1173",
      "metadata": {
        "id": "7efa1173"
      },
      "source": [
        "#### 69. How to get the diagonal of a dot product? (★★★)"
      ]
    },
    {
      "cell_type": "code",
      "execution_count": null,
      "id": "59fc6a51",
      "metadata": {
        "id": "59fc6a51"
      },
      "outputs": [],
      "source": []
    },
    {
      "cell_type": "markdown",
      "id": "b72adc30",
      "metadata": {
        "id": "b72adc30"
      },
      "source": [
        "#### 70. Consider the vector [1, 2, 3, 4, 5], how to build a new vector with 3 consecutive zeros interleaved between each value? (★★★)"
      ]
    },
    {
      "cell_type": "code",
      "execution_count": null,
      "id": "94b582b4",
      "metadata": {
        "id": "94b582b4"
      },
      "outputs": [],
      "source": []
    },
    {
      "cell_type": "markdown",
      "id": "fafa05b8",
      "metadata": {
        "id": "fafa05b8"
      },
      "source": [
        "#### 71. Consider an array of dimension (5,5,3), how to multiply it by an array with dimensions (5,5)? (★★★)"
      ]
    },
    {
      "cell_type": "code",
      "execution_count": null,
      "id": "0dbb5bd4",
      "metadata": {
        "id": "0dbb5bd4"
      },
      "outputs": [],
      "source": []
    },
    {
      "cell_type": "markdown",
      "id": "35a2bae5",
      "metadata": {
        "id": "35a2bae5"
      },
      "source": [
        "#### 72. How to swap two rows of an array? (★★★)"
      ]
    },
    {
      "cell_type": "code",
      "execution_count": null,
      "id": "d63b30c3",
      "metadata": {
        "id": "d63b30c3"
      },
      "outputs": [],
      "source": []
    },
    {
      "cell_type": "markdown",
      "id": "b760fc57",
      "metadata": {
        "id": "b760fc57"
      },
      "source": [
        "#### 73. Consider a set of 10 triplets describing 10 triangles (with shared vertices), find the set of unique line segments composing all the  triangles (★★★)"
      ]
    },
    {
      "cell_type": "code",
      "execution_count": null,
      "id": "01738774",
      "metadata": {
        "id": "01738774"
      },
      "outputs": [],
      "source": []
    },
    {
      "cell_type": "markdown",
      "id": "2d28cdaa",
      "metadata": {
        "id": "2d28cdaa"
      },
      "source": [
        "#### 74. Given a sorted array C that corresponds to a bincount, how to produce an array A such that np.bincount(A) == C? (★★★)"
      ]
    },
    {
      "cell_type": "code",
      "execution_count": null,
      "id": "8423859b",
      "metadata": {
        "id": "8423859b"
      },
      "outputs": [],
      "source": []
    },
    {
      "cell_type": "markdown",
      "id": "5f4cafbd",
      "metadata": {
        "id": "5f4cafbd"
      },
      "source": [
        "#### 75. How to compute averages using a sliding window over an array? (★★★)"
      ]
    },
    {
      "cell_type": "code",
      "execution_count": null,
      "id": "62d6d514",
      "metadata": {
        "id": "62d6d514"
      },
      "outputs": [],
      "source": []
    },
    {
      "cell_type": "markdown",
      "id": "575d8bb4",
      "metadata": {
        "id": "575d8bb4"
      },
      "source": [
        "#### 76. Consider a one-dimensional array Z, build a two-dimensional array whose first row is (Z[0],Z[1],Z[2]) and each subsequent row is  shifted by 1 (last row should be (Z[-3],Z[-2],Z[-1]) (★★★)"
      ]
    },
    {
      "cell_type": "code",
      "execution_count": null,
      "id": "2a41d341",
      "metadata": {
        "id": "2a41d341"
      },
      "outputs": [],
      "source": []
    },
    {
      "cell_type": "markdown",
      "id": "80dc0b2a",
      "metadata": {
        "id": "80dc0b2a"
      },
      "source": [
        "#### 77. How to negate a boolean, or to change the sign of a float inplace? (★★★)"
      ]
    },
    {
      "cell_type": "code",
      "execution_count": null,
      "id": "6fc68014",
      "metadata": {
        "id": "6fc68014"
      },
      "outputs": [],
      "source": []
    },
    {
      "cell_type": "markdown",
      "id": "7288634d",
      "metadata": {
        "id": "7288634d"
      },
      "source": [
        "#### 78. Consider 2 sets of points P0,P1 describing lines (2d) and a point p, how to compute distance from p to each line i (P0[i],P1[i])? (★★★)"
      ]
    },
    {
      "cell_type": "code",
      "execution_count": null,
      "id": "4602caa6",
      "metadata": {
        "id": "4602caa6"
      },
      "outputs": [],
      "source": []
    },
    {
      "cell_type": "markdown",
      "id": "e1880e79",
      "metadata": {
        "id": "e1880e79"
      },
      "source": [
        "#### 79. Consider 2 sets of points P0,P1 describing lines (2d) and a set of points P, how to compute distance from each point j (P[j]) to each line i (P0[i],P1[i])? (★★★)"
      ]
    },
    {
      "cell_type": "code",
      "execution_count": null,
      "id": "a14e151b",
      "metadata": {
        "id": "a14e151b"
      },
      "outputs": [],
      "source": []
    },
    {
      "cell_type": "markdown",
      "id": "b8a2a287",
      "metadata": {
        "id": "b8a2a287"
      },
      "source": [
        "#### 80. Consider an arbitrary array, write a function that extracts a subpart with a fixed shape and centered on a given element (pad with a `fill` value when necessary) (★★★)"
      ]
    },
    {
      "cell_type": "code",
      "execution_count": null,
      "id": "86af1186",
      "metadata": {
        "id": "86af1186"
      },
      "outputs": [],
      "source": []
    },
    {
      "cell_type": "markdown",
      "id": "caa64150",
      "metadata": {
        "id": "caa64150"
      },
      "source": [
        "#### 81. Consider an array Z = [1,2,3,4,5,6,7,8,9,10,11,12,13,14], how to generate an array R = [[1,2,3,4], [2,3,4,5], [3,4,5,6], ..., [11,12,13,14]]? (★★★)"
      ]
    },
    {
      "cell_type": "code",
      "execution_count": null,
      "id": "4e7cc696",
      "metadata": {
        "id": "4e7cc696"
      },
      "outputs": [],
      "source": []
    },
    {
      "cell_type": "markdown",
      "id": "9444c83b",
      "metadata": {
        "id": "9444c83b"
      },
      "source": [
        "#### 82. Compute a matrix rank (★★★)"
      ]
    },
    {
      "cell_type": "code",
      "execution_count": null,
      "id": "9e5c1d64",
      "metadata": {
        "id": "9e5c1d64"
      },
      "outputs": [],
      "source": []
    },
    {
      "cell_type": "markdown",
      "id": "6eef9f33",
      "metadata": {
        "id": "6eef9f33"
      },
      "source": [
        "#### 83. How to find the most frequent value in an array?"
      ]
    },
    {
      "cell_type": "code",
      "execution_count": null,
      "id": "9fb60e52",
      "metadata": {
        "id": "9fb60e52"
      },
      "outputs": [],
      "source": []
    },
    {
      "cell_type": "markdown",
      "id": "65f370f9",
      "metadata": {
        "id": "65f370f9"
      },
      "source": [
        "#### 84. Extract all the contiguous 3x3 blocks from a random 10x10 matrix (★★★)"
      ]
    },
    {
      "cell_type": "code",
      "execution_count": null,
      "id": "65ade1a6",
      "metadata": {
        "id": "65ade1a6"
      },
      "outputs": [],
      "source": []
    },
    {
      "cell_type": "markdown",
      "id": "845ad7f8",
      "metadata": {
        "id": "845ad7f8"
      },
      "source": [
        "#### 85. Create a 2D array subclass such that Z[i,j] == Z[j,i] (★★★)"
      ]
    },
    {
      "cell_type": "code",
      "execution_count": null,
      "id": "30b1ba71",
      "metadata": {
        "id": "30b1ba71"
      },
      "outputs": [],
      "source": []
    },
    {
      "cell_type": "markdown",
      "id": "adc48f02",
      "metadata": {
        "id": "adc48f02"
      },
      "source": [
        "#### 86. Consider a set of p matrices with shape (n,n) and a set of p vectors with shape (n,1). How to compute the sum of of the p matrix products at once? (result has shape (n,1)) (★★★)"
      ]
    },
    {
      "cell_type": "code",
      "execution_count": null,
      "id": "ec798e90",
      "metadata": {
        "id": "ec798e90"
      },
      "outputs": [],
      "source": []
    },
    {
      "cell_type": "markdown",
      "id": "9efb34b2",
      "metadata": {
        "id": "9efb34b2"
      },
      "source": [
        "#### 87. Consider a 16x16 array, how to get the block-sum (block size is 4x4)? (★★★)"
      ]
    },
    {
      "cell_type": "code",
      "execution_count": null,
      "id": "ea79f40b",
      "metadata": {
        "id": "ea79f40b"
      },
      "outputs": [],
      "source": []
    },
    {
      "cell_type": "markdown",
      "id": "a9368578",
      "metadata": {
        "id": "a9368578"
      },
      "source": [
        "#### 88. How to implement the Game of Life using numpy arrays? (★★★)"
      ]
    },
    {
      "cell_type": "code",
      "execution_count": null,
      "id": "315e9f11",
      "metadata": {
        "id": "315e9f11"
      },
      "outputs": [],
      "source": []
    },
    {
      "cell_type": "markdown",
      "id": "8c598af3",
      "metadata": {
        "id": "8c598af3"
      },
      "source": [
        "#### 89. How to get the n largest values of an array (★★★)"
      ]
    },
    {
      "cell_type": "code",
      "execution_count": null,
      "id": "cba8d433",
      "metadata": {
        "id": "cba8d433"
      },
      "outputs": [],
      "source": []
    },
    {
      "cell_type": "markdown",
      "id": "036a3bb0",
      "metadata": {
        "id": "036a3bb0"
      },
      "source": [
        "#### 90. Given an arbitrary number of vectors, build the cartesian product (every combination of every item) (★★★)"
      ]
    },
    {
      "cell_type": "code",
      "execution_count": null,
      "id": "d712972d",
      "metadata": {
        "id": "d712972d"
      },
      "outputs": [],
      "source": []
    },
    {
      "cell_type": "markdown",
      "id": "36487aab",
      "metadata": {
        "id": "36487aab"
      },
      "source": [
        "#### 91. How to create a record array from a regular array? (★★★)"
      ]
    },
    {
      "cell_type": "code",
      "execution_count": null,
      "id": "9779dbac",
      "metadata": {
        "id": "9779dbac"
      },
      "outputs": [],
      "source": []
    },
    {
      "cell_type": "markdown",
      "id": "9f178562",
      "metadata": {
        "id": "9f178562"
      },
      "source": [
        "#### 92. Consider a large vector Z, compute Z to the power of 3 using 3 different methods (★★★)"
      ]
    },
    {
      "cell_type": "code",
      "execution_count": null,
      "id": "b08000b8",
      "metadata": {
        "id": "b08000b8"
      },
      "outputs": [],
      "source": []
    },
    {
      "cell_type": "markdown",
      "id": "86acaf60",
      "metadata": {
        "id": "86acaf60"
      },
      "source": [
        "#### 93. Consider two arrays A and B of shape (8,3) and (2,2). How to find rows of A that contain elements of each row of B regardless of the order of the elements in B? (★★★)"
      ]
    },
    {
      "cell_type": "code",
      "execution_count": null,
      "id": "793b26d4",
      "metadata": {
        "id": "793b26d4"
      },
      "outputs": [],
      "source": []
    },
    {
      "cell_type": "markdown",
      "id": "c71b9df2",
      "metadata": {
        "id": "c71b9df2"
      },
      "source": [
        "#### 94. Considering a 10x3 matrix, extract rows with unequal values (e.g. [2,2,3]) (★★★)"
      ]
    },
    {
      "cell_type": "code",
      "execution_count": null,
      "id": "494069f0",
      "metadata": {
        "id": "494069f0"
      },
      "outputs": [],
      "source": []
    },
    {
      "cell_type": "markdown",
      "id": "1a8ae7c1",
      "metadata": {
        "id": "1a8ae7c1"
      },
      "source": [
        "#### 95. Convert a vector of ints into a matrix binary representation (★★★)"
      ]
    },
    {
      "cell_type": "code",
      "execution_count": null,
      "id": "d5e967b8",
      "metadata": {
        "id": "d5e967b8"
      },
      "outputs": [],
      "source": []
    },
    {
      "cell_type": "markdown",
      "id": "edef1198",
      "metadata": {
        "id": "edef1198"
      },
      "source": [
        "#### 96. Given a two dimensional array, how to extract unique rows? (★★★)"
      ]
    },
    {
      "cell_type": "code",
      "execution_count": null,
      "id": "fa14799b",
      "metadata": {
        "id": "fa14799b"
      },
      "outputs": [],
      "source": []
    },
    {
      "cell_type": "markdown",
      "id": "575598a1",
      "metadata": {
        "id": "575598a1"
      },
      "source": [
        "#### 97. Considering 2 vectors A & B, write the einsum equivalent of inner, outer, sum, and mul function (★★★)"
      ]
    },
    {
      "cell_type": "code",
      "execution_count": null,
      "id": "9da72f6e",
      "metadata": {
        "id": "9da72f6e"
      },
      "outputs": [],
      "source": []
    },
    {
      "cell_type": "markdown",
      "id": "88e2796a",
      "metadata": {
        "id": "88e2796a"
      },
      "source": [
        "#### 98. Considering a path described by two vectors (X,Y), how to sample it using equidistant samples (★★★)?"
      ]
    },
    {
      "cell_type": "code",
      "execution_count": null,
      "id": "c17314f8",
      "metadata": {
        "id": "c17314f8"
      },
      "outputs": [],
      "source": []
    },
    {
      "cell_type": "markdown",
      "id": "8b25b7bd",
      "metadata": {
        "id": "8b25b7bd"
      },
      "source": [
        "#### 99. Given an integer n and a 2D array X, select from X the rows which can be interpreted as draws from a multinomial distribution with n degrees, i.e., the rows which only contain integers and which sum to n. (★★★)"
      ]
    },
    {
      "cell_type": "code",
      "execution_count": null,
      "id": "f0dc48cd",
      "metadata": {
        "id": "f0dc48cd"
      },
      "outputs": [],
      "source": []
    },
    {
      "cell_type": "markdown",
      "id": "b7068c76",
      "metadata": {
        "id": "b7068c76"
      },
      "source": [
        "#### 100. Compute bootstrapped 95% confidence intervals for the mean of a 1D array X (i.e., resample the elements of an array with replacement N times, compute the mean of each sample, and then compute percentiles over the means). (★★★)"
      ]
    },
    {
      "cell_type": "code",
      "execution_count": null,
      "id": "3c234201",
      "metadata": {
        "id": "3c234201"
      },
      "outputs": [],
      "source": []
    }
  ],
  "metadata": {
    "colab": {
      "provenance": [],
      "toc_visible": true
    },
    "language_info": {
      "name": "python"
    },
    "kernelspec": {
      "name": "python3",
      "display_name": "Python 3"
    }
  },
  "nbformat": 4,
  "nbformat_minor": 5
}